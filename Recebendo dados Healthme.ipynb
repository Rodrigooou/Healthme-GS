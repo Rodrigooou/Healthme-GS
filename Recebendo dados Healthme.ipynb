{
 "cells": [
  {
   "cell_type": "code",
   "execution_count": null,
   "metadata": {},
   "outputs": [],
   "source": [
    "import requests\n",
    "\n",
    "url = \"http://46.17.108.113:1026/v2/entities/urn:ngsi-ld:healthme:002/attrs/temperature\"\n",
    "\n",
    "payload = {}\n",
    "headers = {\n",
    "  'fiware-service': 'smart',\n",
    "  'fiware-servicepath': '/',\n",
    "  'accept': 'application/json'\n",
    "}\n",
    "\n",
    "response = requests.request(\"GET\", url, headers=headers, data=payload)\n",
    "\n",
    "# Verifica se a solicitação foi bem-sucedida\n",
    "if response.status_code == 200:\n",
    "    # Extrai a temperatura da resposta em formato JSON\n",
    "    resposta_json = response.json()\n",
    "    temperatura = resposta_json.get(\"value\")  \n",
    "\n",
    "    # Converte a temperatura para um número (assumindo que a temperatura é um número)\n",
    "    temperatura_numero = float(temperatura)\n",
    "\n",
    "    # Aplica a lógica desejada com base na temperatura\n",
    "    if temperatura_numero >= 25:\n",
    "        print(\"Hoje é um dia quente acrescente 700ml de água em sua dieta\")\n",
    "        print(\"Para saber quanto de água você precisa beber basta multiplicar seu peso por 35,\\n que resultará na quantidade de água necessária que deve ser bebido por dia em ml\")\n",
    "    else:\n",
    "        print(\"Hoje o clima está normal beba a quantidade de água prescrita na dieta\")\n",
    "        print(\"Para saber quanto de água você precisa beber basta multiplicar seu peso por 35,\\n que resultará na quantidade de água necessária que deve ser bebido por dia em ml\")\n",
    "else:\n",
    "    # Se a solicitação não for bem-sucedida, imprime o código de status\n",
    "    print(f\"Erro na solicitação. Código de status: {response.status_code}\")\n"
   ]
  }
 ],
 "metadata": {
  "language_info": {
   "name": "python"
  }
 },
 "nbformat": 4,
 "nbformat_minor": 2
}
